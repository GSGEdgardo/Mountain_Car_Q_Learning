{
 "cells": [
  {
   "metadata": {},
   "cell_type": "raw",
   "source": "",
   "id": "bd7e13f0fefbdfc2"
  },
  {
   "metadata": {
    "ExecuteTime": {
     "end_time": "2025-04-28T16:04:58.095348Z",
     "start_time": "2025-04-28T16:04:58.080203Z"
    }
   },
   "cell_type": "code",
   "source": [
    "import gym\n",
    "from random import randint\n",
    "import numpy as np\n",
    "\n",
    "import matplotlib\n",
    "matplotlib.use('TkAgg')\n",
    "import matplotlib.pyplot as plt"
   ],
   "id": "f4977cd8c96dceb5",
   "outputs": [],
   "execution_count": 9
  },
  {
   "metadata": {
    "ExecuteTime": {
     "end_time": "2025-04-28T16:04:58.156454Z",
     "start_time": "2025-04-28T16:04:58.142051Z"
    }
   },
   "cell_type": "code",
   "source": [
    "env = gym.make('MountainCar-v0', render_mode=\"rgb_array\")\n",
    "#env = gym.make('MountainCar-v0', render_mode=\"human\") <- por si se quiere ver el vehículo en movimiento\n",
    "\n",
    "\"\"\"\n",
    "Esta linea muestra la cantidad de acciones que tiene nuestro entorno\n",
    "Para este caso el Action Space son 3, y son:\n",
    "0 -> Acelerar a la izquierda\n",
    "1 -> No hacer nada\n",
    "2 -> Acelerar a la derecha\n",
    "\"\"\"\n",
    "env.action_space"
   ],
   "id": "42f203f681432a4d",
   "outputs": [
    {
     "data": {
      "text/plain": [
       "Discrete(3)"
      ]
     },
     "execution_count": 10,
     "metadata": {},
     "output_type": "execute_result"
    }
   ],
   "execution_count": 10
  },
  {
   "metadata": {
    "ExecuteTime": {
     "end_time": "2025-04-28T16:04:58.235630Z",
     "start_time": "2025-04-28T16:04:58.220477Z"
    }
   },
   "cell_type": "code",
   "source": [
    "\"\"\"\n",
    "Esta linea muestra la cantidad de estados que tiene nuestro entorno\n",
    "Para este caso el Observation Space son 2, y son:\n",
    "0 -> Posicion de la montaña en el eje X (entre -1.2 y 0.6)\n",
    "1 -> Velocidad del auto (entre -0.07 y 0.07)\n",
    "\"\"\"\n",
    "env.observation_space\n"
   ],
   "id": "969ea5ee9913feec",
   "outputs": [
    {
     "data": {
      "text/plain": [
       "Box([-1.2  -0.07], [0.6  0.07], (2,), float32)"
      ]
     },
     "execution_count": 11,
     "metadata": {},
     "output_type": "execute_result"
    }
   ],
   "execution_count": 11
  },
  {
   "metadata": {
    "ExecuteTime": {
     "end_time": "2025-04-28T16:04:58.312695Z",
     "start_time": "2025-04-28T16:04:58.298098Z"
    }
   },
   "cell_type": "code",
   "source": [
    "def discretizar(valor):\n",
    "    aux = ((valor - env.observation_space.low)/(env.observation_space.high - env.observation_space.low))*20\n",
    "    return tuple(aux.astype(np.int32))"
   ],
   "id": "5508f326fa7b9473",
   "outputs": [],
   "execution_count": 12
  },
  {
   "metadata": {
    "ExecuteTime": {
     "end_time": "2025-04-28T16:04:58.389926Z",
     "start_time": "2025-04-28T16:04:58.375561Z"
    }
   },
   "cell_type": "code",
   "source": [
    "\"\"\"\n",
    "env.reset() manda dos valores, el primero es el estado inicial y el segundo es un diccionario con información adicional\n",
    "La idea para poder discretizar el estado es que el primer valor de la tupla que retorna env.reset() es el estado inicial\n",
    "\"\"\"\n",
    "estado,_ = env.reset()\n",
    "discretizar(estado)"
   ],
   "id": "4b68428449242ad",
   "outputs": [
    {
     "data": {
      "text/plain": [
       "(8, 10)"
      ]
     },
     "execution_count": 13,
     "metadata": {},
     "output_type": "execute_result"
    }
   ],
   "execution_count": 13
  },
  {
   "metadata": {
    "ExecuteTime": {
     "end_time": "2025-04-28T16:04:58.468382Z",
     "start_time": "2025-04-28T16:04:58.453857Z"
    }
   },
   "cell_type": "code",
   "source": [
    "\"\"\"\n",
    "Ahora toca hacer la q_table, que es una tabla que contiene el valor de cada acción en cada estado\n",
    "La q_table es una matriz de 20x20x3, donde 20 son los estados discretizados y 3 son las acciones posibles\n",
    "Para partir se va a inicializar la q_table con valores aleatorios entre -1 y 1\n",
    "\"\"\"\n",
    "q_table = np.random.uniform(low=-1, high=1, size=[20, 20, 3])"
   ],
   "id": "6f21f77b91706ecd",
   "outputs": [],
   "execution_count": 14
  },
  {
   "metadata": {},
   "cell_type": "markdown",
   "source": [
    "## Fórmula de Q-Learning\n",
    "La actualización de los valores Q sigue esta fórmula:\n",
    "\n",
    "\n",
    "# New Q(s, a) = Q(s, a) + α [ R(s, a) + γ max Q(s', a') - Q(s, a) ]"
   ],
   "id": "694bc79af966574"
  },
  {
   "metadata": {},
   "cell_type": "markdown",
   "source": [
    "\n",
    "Donde:\n",
    "\n",
    "- **New Q(s, a)**: Nuevo valor Q para el estado `s` y acción `a`.\n",
    "- **Q(s, a)**: Valor Q actual para el estado `s` y acción `a`.\n",
    "- **α (alpha)**: Tasa de aprendizaje (Learning Rate).\n",
    "- **R(s, a)**: Recompensa por tomar la acción `a` en el estado `s`.\n",
    "- **γ (gamma)**: Tasa de descuento (Discount Rate), que mide la importancia de las recompensas futuras.\n",
    "- **max Q(s', a')**: Máximo valor esperado de recompensa futura para el siguiente estado `s'` al tomar la mejor acción `a'`.\n",
    "\n",
    "## Resumen visual:\n",
    "\n",
    "| Elemento | Significado |\n",
    "|:---|:---|\n",
    "| **New Q(s, a)** | Nuevo valor Q para el estado y acción |\n",
    "| **Q(s, a)** | Valores actuales de Q |\n",
    "| **α** | Tasa de aprendizaje |\n",
    "| **R(s, a)** | Recompensa obtenida por la acción en el estado |\n",
    "| **γ** | Tasa de descuento |\n",
    "| **max Q(s', a')** | Máxima recompensa futura esperada |\n"
   ],
   "id": "57be00338f631536"
  },
  {
   "metadata": {
    "ExecuteTime": {
     "end_time": "2025-04-28T16:04:58.529441Z",
     "start_time": "2025-04-28T16:04:58.515515Z"
    }
   },
   "cell_type": "code",
   "source": [
    "def graficar_q_table(q_table):\n",
    "    mapa_acciones = np.argmax(q_table, axis=2)  # Elegimos la mejor acción para cada celda\n",
    "\n",
    "    plt.figure(figsize=(10, 8))\n",
    "    plt.imshow(mapa_acciones, cmap='viridis', origin='lower')\n",
    "    plt.colorbar(ticks=[0,1,2], label='Acción: 0=Izquierda, 1=Nada, 2=Derecha')\n",
    "    plt.title('Mapa de acciones preferidas')\n",
    "    plt.xlabel('Velocidad Discretizada')\n",
    "    plt.ylabel('Posición Discretizada')\n",
    "    plt.show()"
   ],
   "id": "b5b1facb7eaba9a2",
   "outputs": [],
   "execution_count": 15
  },
  {
   "metadata": {
    "ExecuteTime": {
     "end_time": "2025-04-28T16:06:41.259126Z",
     "start_time": "2025-04-28T16:04:58.577355Z"
    }
   },
   "cell_type": "code",
   "source": [
    "# env.reset(): Esto es para poder cambiar la posición de inicio\n",
    "# alpha: tasa_aprendizaje = 0.1\n",
    "# gamma:  tasa de descuento = 0.95 , si está próximo a cero busca las recompensa más cercanas, si está próximo a uno busca las recompensas más lejanas -> confianza\n",
    "# epsilon: tasa de exploración = 0.1\n",
    "alpha = 0.1\n",
    "gamma = 0.95\n",
    "epsilon = 0.7\n",
    "iteraciones = 5000\n",
    "lista_recompensas = []\n",
    "\n",
    "# Inicializar grafico de la Q-table\n",
    "plt.ion()  # Modo interactivo\n",
    "\n",
    "fig, ax = plt.subplots(figsize=(8, 6))\n",
    "img = ax.imshow(np.argmax(q_table, axis=2), cmap='viridis', origin='lower')\n",
    "cbar = plt.colorbar(img, ax=ax, ticks=[0, 1, 2])\n",
    "cbar.ax.set_yticklabels(['Izquierda', 'Nada', 'Derecha'])\n",
    "ax.set_title('Mapa de acciones preferidas (entrenando)')\n",
    "ax.set_xlabel('Velocidad Discretizada')\n",
    "ax.set_ylabel('Posición Discretizada')\n",
    "\n",
    "for iteracion in range(iteraciones):\n",
    "    estado,_ = env.reset()\n",
    "    estado = discretizar(estado)\n",
    "    final = False\n",
    "    recompensa_total = 0\n",
    "    while not final:\n",
    "        \"\"\"\n",
    "        # 20% que sea aleatoria y 80% que sea la mejor acción\n",
    "        if randint(0, 10) > 2:\n",
    "            accion = np.argmax(q_table[estado])\n",
    "        else:\n",
    "            accion = randint(0, 2)\n",
    "        \"\"\"\n",
    "        if np.random.uniform(0,1) < epsilon:\n",
    "            accion = np.random.randint(0,3) # Exploracion -> accion aleatoria\n",
    "        else:\n",
    "            accion = np.argmax(q_table[estado]) # Mejor accion\n",
    "        nuevo_estado, recompensa, final, truncado, info = env.step(accion)\n",
    "        # Esta es la fórmula de Q-Learning, que representa\n",
    "        q_table[estado][accion] = q_table[estado][accion] + alpha * (recompensa + gamma * np.max(q_table[discretizar(nuevo_estado)]) - q_table[estado][accion])\n",
    "        estado = discretizar(nuevo_estado)\n",
    "        recompensa_total += recompensa\n",
    "\n",
    "\n",
    "        if (iteracion+1) % 1000 == 0:\n",
    "            env.render()\n",
    "\n",
    "    lista_recompensas.append(recompensa_total)\n",
    "    # Decaimiento de epsilon\n",
    "    epsilon = max(0.01, epsilon * 0.995)\n",
    "\n",
    "    # Mostrar progreso\n",
    "    if (iteracion+1) % 100 == 0:\n",
    "        print(f\"Iteración: {iteracion+1}, Recompensa total: {recompensa_total}\")\n",
    "        print(f\"Media de las recompensas: {np.mean(lista_recompensas[-100:])}\")\n",
    "\n",
    "        img.set_data(np.argmax(q_table, axis=2))\n",
    "        ax.set_title(f'Mapa de acciones preferidas (Iteración {iteracion+1})')\n",
    "        fig.canvas.draw()\n",
    "        fig.canvas.flush_events()\n",
    "\n",
    "env.close()\n",
    "# env.close() cierra la ventana de renderizado\n",
    "\n",
    "plt.ioff() # Desactiva el modo interactivo\n",
    "plt.show()"
   ],
   "id": "bc6bd89e174f39db",
   "outputs": [
    {
     "name": "stdout",
     "output_type": "stream",
     "text": [
      "Iteración: 100, Recompensa total: -539.0\n",
      "Media de las recompensas: -1529.93\n",
      "Iteración: 200, Recompensa total: -363.0\n",
      "Media de las recompensas: -519.15\n",
      "Iteración: 300, Recompensa total: -280.0\n",
      "Media de las recompensas: -326.78\n",
      "Iteración: 400, Recompensa total: -200.0\n",
      "Media de las recompensas: -257.33\n",
      "Iteración: 500, Recompensa total: -259.0\n",
      "Media de las recompensas: -256.33\n",
      "Iteración: 600, Recompensa total: -164.0\n",
      "Media de las recompensas: -229.01\n",
      "Iteración: 700, Recompensa total: -234.0\n",
      "Media de las recompensas: -246.36\n",
      "Iteración: 800, Recompensa total: -203.0\n",
      "Media de las recompensas: -273.81\n",
      "Iteración: 900, Recompensa total: -228.0\n",
      "Media de las recompensas: -252.62\n",
      "Iteración: 1000, Recompensa total: -257.0\n",
      "Media de las recompensas: -240.27\n",
      "Iteración: 1100, Recompensa total: -156.0\n",
      "Media de las recompensas: -192.37\n",
      "Iteración: 1200, Recompensa total: -146.0\n",
      "Media de las recompensas: -195.6\n",
      "Iteración: 1300, Recompensa total: -194.0\n",
      "Media de las recompensas: -171.63\n",
      "Iteración: 1400, Recompensa total: -179.0\n",
      "Media de las recompensas: -184.93\n",
      "Iteración: 1500, Recompensa total: -256.0\n",
      "Media de las recompensas: -237.66\n",
      "Iteración: 1600, Recompensa total: -158.0\n",
      "Media de las recompensas: -199.1\n",
      "Iteración: 1700, Recompensa total: -152.0\n",
      "Media de las recompensas: -155.51\n",
      "Iteración: 1800, Recompensa total: -156.0\n",
      "Media de las recompensas: -163.72\n",
      "Iteración: 1900, Recompensa total: -197.0\n",
      "Media de las recompensas: -167.1\n",
      "Iteración: 2000, Recompensa total: -228.0\n",
      "Media de las recompensas: -183.11\n",
      "Iteración: 2100, Recompensa total: -162.0\n",
      "Media de las recompensas: -207.45\n",
      "Iteración: 2200, Recompensa total: -154.0\n",
      "Media de las recompensas: -192.76\n",
      "Iteración: 2300, Recompensa total: -148.0\n",
      "Media de las recompensas: -169.12\n",
      "Iteración: 2400, Recompensa total: -155.0\n",
      "Media de las recompensas: -223.51\n",
      "Iteración: 2500, Recompensa total: -153.0\n",
      "Media de las recompensas: -180.01\n",
      "Iteración: 2600, Recompensa total: -223.0\n",
      "Media de las recompensas: -210.78\n",
      "Iteración: 2700, Recompensa total: -150.0\n",
      "Media de las recompensas: -164.56\n",
      "Iteración: 2800, Recompensa total: -145.0\n",
      "Media de las recompensas: -147.93\n",
      "Iteración: 2900, Recompensa total: -162.0\n",
      "Media de las recompensas: -154.65\n",
      "Iteración: 3000, Recompensa total: -149.0\n",
      "Media de las recompensas: -160.78\n",
      "Iteración: 3100, Recompensa total: -149.0\n",
      "Media de las recompensas: -158.12\n",
      "Iteración: 3200, Recompensa total: -203.0\n",
      "Media de las recompensas: -163.88\n",
      "Iteración: 3300, Recompensa total: -182.0\n",
      "Media de las recompensas: -178.21\n",
      "Iteración: 3400, Recompensa total: -152.0\n",
      "Media de las recompensas: -166.19\n",
      "Iteración: 3500, Recompensa total: -148.0\n",
      "Media de las recompensas: -160.03\n",
      "Iteración: 3600, Recompensa total: -156.0\n",
      "Media de las recompensas: -150.82\n",
      "Iteración: 3700, Recompensa total: -169.0\n",
      "Media de las recompensas: -145.46\n",
      "Iteración: 3800, Recompensa total: -427.0\n",
      "Media de las recompensas: -170.82\n",
      "Iteración: 3900, Recompensa total: -177.0\n",
      "Media de las recompensas: -169.01\n",
      "Iteración: 4000, Recompensa total: -146.0\n",
      "Media de las recompensas: -146.4\n",
      "Iteración: 4100, Recompensa total: -149.0\n",
      "Media de las recompensas: -156.67\n",
      "Iteración: 4200, Recompensa total: -153.0\n",
      "Media de las recompensas: -165.77\n",
      "Iteración: 4300, Recompensa total: -144.0\n",
      "Media de las recompensas: -165.48\n",
      "Iteración: 4400, Recompensa total: -147.0\n",
      "Media de las recompensas: -166.57\n",
      "Iteración: 4500, Recompensa total: -182.0\n",
      "Media de las recompensas: -169.6\n",
      "Iteración: 4600, Recompensa total: -152.0\n",
      "Media de las recompensas: -164.25\n",
      "Iteración: 4700, Recompensa total: -178.0\n",
      "Media de las recompensas: -162.98\n",
      "Iteración: 4800, Recompensa total: -236.0\n",
      "Media de las recompensas: -162.25\n",
      "Iteración: 4900, Recompensa total: -145.0\n",
      "Media de las recompensas: -169.72\n",
      "Iteración: 5000, Recompensa total: -189.0\n",
      "Media de las recompensas: -166.78\n"
     ]
    }
   ],
   "execution_count": 16
  },
  {
   "metadata": {
    "ExecuteTime": {
     "end_time": "2025-04-28T16:06:45.553142Z",
     "start_time": "2025-04-28T16:06:41.386572Z"
    }
   },
   "cell_type": "code",
   "source": [
    "ventana = 100  # Tamaño de la ventana del promedio\n",
    "promedio_movil = np.convolve(lista_recompensas, np.ones(ventana)/ventana, mode='valid')\n",
    "\n",
    "plt.figure(figsize=(10, 6))\n",
    "plt.plot(promedio_movil, label=f'Promedio móvil (ventana={ventana})', color='royalblue', linewidth=2)\n",
    "plt.title('Promedio Móvil de Recompensas', fontsize=16)\n",
    "plt.xlabel('Episodios', fontsize=14)\n",
    "plt.ylabel('Recompensa Promedio', fontsize=14)\n",
    "plt.grid(True, linestyle='--', alpha=0.7)\n",
    "plt.legend()\n",
    "plt.show()"
   ],
   "id": "19da40953836728c",
   "outputs": [],
   "execution_count": 17
  },
  {
   "metadata": {
    "ExecuteTime": {
     "end_time": "2025-04-28T16:06:47.145184Z",
     "start_time": "2025-04-28T16:06:45.601403Z"
    }
   },
   "cell_type": "code",
   "source": [
    "plt.plot(np.convolve(lista_recompensas, np.ones(100) / 100, mode='valid'))\n",
    "plt.title('Promedio móvil de recompensas (ventana=100)')\n",
    "plt.xlabel('Episodios')\n",
    "plt.ylabel('Recompensa promedio')\n",
    "plt.grid()\n",
    "plt.show()"
   ],
   "id": "5fe638f1abab39c7",
   "outputs": [],
   "execution_count": 18
  },
  {
   "metadata": {
    "ExecuteTime": {
     "end_time": "2025-04-28T16:06:49.762846Z",
     "start_time": "2025-04-28T16:06:47.192995Z"
    }
   },
   "cell_type": "code",
   "source": "graficar_q_table(q_table)",
   "id": "dc7c47a07c9144e2",
   "outputs": [],
   "execution_count": 19
  }
 ],
 "metadata": {
  "kernelspec": {
   "display_name": "Python 3",
   "language": "python",
   "name": "python3"
  },
  "language_info": {
   "codemirror_mode": {
    "name": "ipython",
    "version": 2
   },
   "file_extension": ".py",
   "mimetype": "text/x-python",
   "name": "python",
   "nbconvert_exporter": "python",
   "pygments_lexer": "ipython2",
   "version": "2.7.6"
  }
 },
 "nbformat": 4,
 "nbformat_minor": 5
}
